{
 "cells": [
  {
   "cell_type": "code",
   "execution_count": 1,
   "id": "9cf60441",
   "metadata": {},
   "outputs": [],
   "source": [
    "import numpy as np\n",
    "import matplotlib.pyplot as plt\n",
    "from sklearn.model_selection import train_test_split, KFold\n",
    "import seaborn as sns\n",
    "from sklearn import datasets\n",
    "from sklearn.base import BaseEstimator\n",
    "#from sklearn.datasets import fetch_mldata, fetch_20newsgroups\n",
    "\n",
    "from sklearn.model_selection import train_test_split\n",
    "from sklearn.neighbors import KNeighborsClassifier\n",
    "from sklearn.metrics import accuracy_score\n",
    "import scipy\n",
    "import scipy.stats as st\n",
    "\n"
   ]
  },
  {
   "cell_type": "code",
   "execution_count": 132,
   "id": "de5aff51",
   "metadata": {},
   "outputs": [],
   "source": [
    "from sklearn.utils import shuffle\n",
    "def batch_generator(X, y, shuffle_state =True, batch_size=1):\n",
    "    \n",
    "    n = X.shape[0]\n",
    "    if shuffle_state:\n",
    "        X, y = shuffle(X, y)\n",
    "    for i in range(0, n, batch_size):\n",
    "        try:\n",
    "            yield (X[i:i + batch_size], y[i:i + batch_size])\n",
    "        except IndexError:\n",
    "            yield (X[i::], y[i::])"
   ]
  },
  {
   "cell_type": "code",
   "execution_count": 178,
   "id": "dd2d048a",
   "metadata": {},
   "outputs": [],
   "source": [
    "from sklearn.base import BaseEstimator, ClassifierMixin\n",
    "\n",
    "class MyRidge(BaseEstimator, ClassifierMixin):\n",
    "    \n",
    "    def __init__(self, batch_generator, lambda_=0.1, alpha=0.01, max_epoch=1000, model_type='Linear', batch_size = 100):\n",
    "\n",
    "        self.lambda_ = lambda_\n",
    "        self.alpha = alpha\n",
    "        self.max_epoch = max_epoch\n",
    "        self.batch_generator = batch_generator\n",
    "        self.errors_log = {'iter' : [], 'loss' : []}  \n",
    "        self.model_type = model_type\n",
    "        self.batch_size = batch_size\n",
    "        \n",
    "    \n",
    "    def calc_loss(self, X_batch, Y_batch):\n",
    "        m = X_batch.shape[0]\n",
    "        L2 = self.lambda_/2 *(self.weights[1:] @ self.weights.reshape(-1,1)[1:])\n",
    "        loss = ((Y_batch - X_batch @ self.weights.reshape(-1, 1))**2 + L2).sum()/m\n",
    "        return loss\n",
    "    \n",
    "    \n",
    "    \n",
    "    def calc_loss_grad(self, X_batch, y_batch):\n",
    "\n",
    "        m = X_batch.shape[0]\n",
    "        predict = X_batch.dot(self.weights)\n",
    "        loss_grad = (2 * (predict - y_batch).dot(X_batch) + \\\n",
    "                    self.lambda_ * np.hstack(([0],self.weights[1:]))) / m\n",
    "        return loss_grad\n",
    "    \n",
    "    \n",
    "    \n",
    "    def update_weights(self, new_grad):\n",
    "        self.weights -= new_grad * self.alpha \n",
    "\n",
    "    \n",
    "    \n",
    "    def fit(self, X, Y):\n",
    "        \n",
    "        self.weights = st.uniform.rvs(size = X.shape[1] + 1)\n",
    "        for i in enumerate(range(self.max_epoch)):\n",
    "            new_epoch_generator = self.batch_generator(X, Y, batch_size = self.batch_size)\n",
    "            for batch in new_epoch_generator:\n",
    "                X_batch = batch[0]\n",
    "                w0vec = np.ones(X_batch.shape[0]).reshape(-1, 1)\n",
    "                Y_batch = batch[1]\n",
    "                X_batch = np.concatenate((w0vec, X_batch), axis = 1)\n",
    "                loss_grad = self.calc_loss_grad(X_batch, Y_batch)\n",
    "                self.update_weights(loss_grad)\n",
    "                batch_loss = self.calc_loss(X_batch, Y_batch)\n",
    "                if len(self.errors_log['loss']) >=2 and \\\n",
    "                np.absolute(self.errors_log['loss'][-1] - self.errors_log['loss'][-2]) < 0.001:\n",
    "                    break\n",
    "            self.errors_log['iter'].append(i[0])\n",
    "            self.errors_log['loss'].append(batch_loss)\n",
    "                \n",
    "                \n",
    "                \n",
    "                \n",
    "\n",
    "                \n",
    "                \n",
    "    \n",
    "    def predict(self, X):\n",
    "        w0vec = np.ones(X.shape[0]).reshape(-1, 1)\n",
    "        X = np.concatenate((w0vec, X), axis = 1)\n",
    "        return np.dot(X, self.weights.T)\n",
    "       \n",
    "    \n",
    "        \n",
    "        \n",
    "        "
   ]
  },
  {
   "cell_type": "code",
   "execution_count": 179,
   "id": "373bb88c",
   "metadata": {},
   "outputs": [],
   "source": [
    "from sklearn.datasets import make_regression\n",
    "from sklearn.linear_model import Ridge"
   ]
  },
  {
   "cell_type": "code",
   "execution_count": 180,
   "id": "0c39bf5c",
   "metadata": {},
   "outputs": [],
   "source": [
    "X, Y = make_regression(n_samples=100, n_features=2, n_informative = 2, n_targets=1, bias=0.6)"
   ]
  },
  {
   "cell_type": "code",
   "execution_count": 168,
   "id": "a8ee5991",
   "metadata": {},
   "outputs": [],
   "source": [
    "clf = MyRidge(batch_generator=batch_generator, alpha= 0.01, max_epoch=10000)"
   ]
  },
  {
   "cell_type": "code",
   "execution_count": 169,
   "id": "7fcb4e55",
   "metadata": {},
   "outputs": [],
   "source": [
    "clf.fit(X, Y)"
   ]
  },
  {
   "cell_type": "code",
   "execution_count": 170,
   "id": "0d6deae6",
   "metadata": {},
   "outputs": [
    {
     "data": {
      "text/plain": [
       "(9999, 10000)"
      ]
     },
     "execution_count": 170,
     "metadata": {},
     "output_type": "execute_result"
    }
   ],
   "source": [
    "clf.errors_log['iter'][-1], len(clf.errors_log['loss'])"
   ]
  },
  {
   "cell_type": "code",
   "execution_count": 171,
   "id": "efa16c79",
   "metadata": {},
   "outputs": [
    {
     "data": {
      "text/plain": [
       "(0.6009795767467843, array([80.36979905, 20.29236662]))"
      ]
     },
     "execution_count": 171,
     "metadata": {},
     "output_type": "execute_result"
    }
   ],
   "source": [
    "clf1 = Ridge(alpha = 0.01)\n",
    "clf1.fit(X, Y)\n",
    "clf1.intercept_, clf1.coef_\n"
   ]
  },
  {
   "cell_type": "code",
   "execution_count": 116,
   "id": "a36b7a04",
   "metadata": {},
   "outputs": [
    {
     "name": "stdout",
     "output_type": "stream",
     "text": [
      "(0, 0)\n",
      "(1, 1)\n",
      "(2, 2)\n",
      "(3, 3)\n",
      "(4, 4)\n",
      "(5, 5)\n",
      "(6, 6)\n",
      "(7, 7)\n",
      "(8, 8)\n",
      "(9, 9)\n"
     ]
    }
   ],
   "source": [
    "for i in enumerate(range(10)):\n",
    "    print(i)"
   ]
  },
  {
   "cell_type": "code",
   "execution_count": null,
   "id": "8337ba2a",
   "metadata": {},
   "outputs": [],
   "source": []
  }
 ],
 "metadata": {
  "kernelspec": {
   "display_name": "Python 3",
   "language": "python",
   "name": "python3"
  },
  "language_info": {
   "codemirror_mode": {
    "name": "ipython",
    "version": 3
   },
   "file_extension": ".py",
   "mimetype": "text/x-python",
   "name": "python",
   "nbconvert_exporter": "python",
   "pygments_lexer": "ipython3",
   "version": "3.8.8"
  }
 },
 "nbformat": 4,
 "nbformat_minor": 5
}
