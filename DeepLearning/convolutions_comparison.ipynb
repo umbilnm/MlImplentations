{
 "cells": [
  {
   "cell_type": "code",
   "execution_count": 63,
   "metadata": {},
   "outputs": [],
   "source": [
    "from time import time\n",
    "import numpy as np\n",
    "from tqdm import tqdm\n",
    "import torch\n"
   ]
  },
  {
   "cell_type": "code",
   "execution_count": 56,
   "metadata": {},
   "outputs": [],
   "source": [
    "test_image = np.random.randn(32, 32)\n",
    "test_kernels = np.random.randn(3, 3)\n",
    "\n",
    "def naive_convolution(image, kernel):\n",
    "\theight, width = image.shape\n",
    "\tkernel_height, kernel_width = kernel.shape\n",
    "\toutput_height = height - kernel_height + 1\n",
    "\toutput_width  = width - kernel_width + 1\n",
    "\n",
    "\toutput = np.zeros((output_height, output_width))\t\n",
    "\t# without stride\t\n",
    "\tfor row in range(output_height):\n",
    "\t\tfor col in range(output_width):\n",
    "\t\t\toutput[row, col] = np.sum(image[row:row+kernel_height, col:col+kernel_width] * kernel)\n",
    "\treturn output\n",
    "\n",
    "def optimized_convolution(image, kernel):\n",
    "\tkernel_height, kernel_width = kernel.shape\n",
    "\theight, width = image.shape\n",
    "\toutput_height = height - kernel_height + 1\n",
    "\toutput_width  = width - kernel_width + 1\n",
    "\timage = np.lib.stride_tricks.sliding_window_view(image, (kernel_height, kernel_width))\n",
    "\timage = image.reshape(output_height, output_width, -1)\n",
    "\treturn np.sum(image * kernel.flatten(), axis=-1)\n",
    "\n",
    "\n",
    "conv = naive_convolution(test_image, test_kernels)\n",
    "optimized_conv = optimized_convolution(test_image, test_kernels)"
   ]
  },
  {
   "cell_type": "code",
   "execution_count": 59,
   "metadata": {},
   "outputs": [
    {
     "data": {
      "text/plain": [
       "array([1., 1., 1., 1., 1., 1., 1., 1., 1., 1., 1., 1., 1., 1., 1., 1., 1.,\n",
       "       1., 1., 1., 1., 1., 1., 1., 1., 1., 1., 1., 1., 1., 1., 1.])"
      ]
     },
     "execution_count": 59,
     "metadata": {},
     "output_type": "execute_result"
    }
   ],
   "source": [
    "np.array_linp.ones(32)"
   ]
  },
  {
   "cell_type": "code",
   "execution_count": 62,
   "metadata": {},
   "outputs": [
    {
     "name": "stderr",
     "output_type": "stream",
     "text": [
      "100%|██████████| 121/121 [00:54<00:00,  2.23it/s]\n"
     ]
    }
   ],
   "source": [
    "image_sizes = list(range(16, 257, 2))\n",
    "kernel_size = (3, 3)\n",
    "results = []\n",
    "torch_convolution = torch.nn.Conv2d(1, 1, kernel_size, stride=1, padding=0)\n",
    "N_RUNS = 10\n",
    "for size in tqdm(image_sizes):\n",
    "\timage = np.random.randn(size, size)\n",
    "\tkernel = np.random.randn(*kernel_size)\n",
    "\tnaive_times = []\n",
    "\toptimized_times = []\n",
    "\ttorch_times = []\n",
    "\tfor _ in range(N_RUNS):\n",
    "\t\tstart_time = time()\n",
    "    \n",
    "\t\tnaive_convolution(image, kernel)\n",
    "\t\tnaive_time = time() - start_time\n",
    "\t\tnaive_times.append(naive_time)\n",
    "\tfor _ in range(N_RUNS):\n",
    "\t\tstart_time = time()\n",
    "\t\toptimized_convolution(image, kernel)\n",
    "\t\toptimized_time = time() - start_time\n",
    "\t\toptimized_times.append(optimized_time)\n",
    "\t\n",
    "\ttorch_image = torch.from_numpy(image).unsqueeze(0).unsqueeze(0)\n",
    "\ttorch_kernel = torch.from_numpy(kernel).unsqueeze(0).unsqueeze(0)\n",
    "\tfor _ in range(N_RUNS):\n",
    "\t\tstart_time = time()\n",
    "\t\ttorch_convolution(torch_image, torch_kernel)\n",
    "\t\ttorch_time = time() - start_time\n",
    "\t\ttorch_times.append(torch_time)\n",
    "\tresults.append((size, np.mean(naive_times), np.mean(optimized_times), np.mean(torch_times)))"
   ]
  },
  {
   "cell_type": "code",
   "execution_count": null,
   "metadata": {},
   "outputs": [],
   "source": []
  }
 ],
 "metadata": {
  "kernelspec": {
   "display_name": ".venv",
   "language": "python",
   "name": "python3"
  },
  "language_info": {
   "codemirror_mode": {
    "name": "ipython",
    "version": 3
   },
   "file_extension": ".py",
   "mimetype": "text/x-python",
   "name": "python",
   "nbconvert_exporter": "python",
   "pygments_lexer": "ipython3",
   "version": "3.11.6"
  }
 },
 "nbformat": 4,
 "nbformat_minor": 2
}
